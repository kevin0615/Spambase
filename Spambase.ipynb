{
  "nbformat": 4,
  "nbformat_minor": 0,
  "metadata": {
    "colab": {
      "name": "Spambase.ipynb",
      "provenance": [],
      "collapsed_sections": [],
      "toc_visible": true
    },
    "kernelspec": {
      "name": "python3",
      "display_name": "Python 3"
    },
    "accelerator": "GPU"
  },
  "cells": [
    {
      "cell_type": "code",
      "metadata": {
        "id": "rBFjq-IETsLi"
      },
      "source": [
        "import numpy as np\n",
        "from keras import datasets, models, layers\n",
        "from keras.utils.np_utils import to_categorical\n",
        "import matplotlib.pyplot as plt\n",
        "import pandas as pd"
      ],
      "execution_count": 6,
      "outputs": []
    },
    {
      "cell_type": "markdown",
      "metadata": {
        "id": "-3oJPADAXU18"
      },
      "source": [
        "# **Step 1 : Load data**"
      ]
    },
    {
      "cell_type": "code",
      "metadata": {
        "id": "QGRMYG87iwuc"
      },
      "source": [
        "# Load the dataframe\n",
        "df = pd.read_csv('spambase.data', header=None)"
      ],
      "execution_count": 7,
      "outputs": []
    },
    {
      "cell_type": "code",
      "metadata": {
        "colab": {
          "base_uri": "https://localhost:8080/"
        },
        "id": "O4B67lsSi36B",
        "outputId": "84ccba5d-b0a0-4fc7-aad6-8885de848a26"
      },
      "source": [
        "df.shape"
      ],
      "execution_count": 8,
      "outputs": [
        {
          "output_type": "execute_result",
          "data": {
            "text/plain": [
              "(4601, 58)"
            ]
          },
          "metadata": {
            "tags": []
          },
          "execution_count": 8
        }
      ]
    },
    {
      "cell_type": "code",
      "metadata": {
        "colab": {
          "base_uri": "https://localhost:8080/"
        },
        "id": "ZO4AsA1rjTTX",
        "outputId": "bb4f3319-595f-4548-d56e-0f25f34b9f15"
      },
      "source": [
        "df.iloc[:, -1].value_counts()"
      ],
      "execution_count": 9,
      "outputs": [
        {
          "output_type": "execute_result",
          "data": {
            "text/plain": [
              "0    2788\n",
              "1    1813\n",
              "Name: 57, dtype: int64"
            ]
          },
          "metadata": {
            "tags": []
          },
          "execution_count": 9
        }
      ]
    },
    {
      "cell_type": "markdown",
      "metadata": {
        "id": "GjpT5H2rjYgV"
      },
      "source": [
        "I see that I have an unbalanced dataset. I need to balance it in order to work with it to build our model."
      ]
    },
    {
      "cell_type": "code",
      "metadata": {
        "colab": {
          "base_uri": "https://localhost:8080/"
        },
        "id": "I4dx-q43jc4G",
        "outputId": "7640e7e4-a811-4fa7-8f2a-5a57be41609f"
      },
      "source": [
        "# train test split\n",
        "# 1500 indexes of class 0 and 1500 indexes class 1, for the training set so as to have 70/30 training/test split\n",
        "np.random.seed(42)\n",
        "ind_train_class_0 = np.random.choice(df[df.iloc[:,-1]==0].index, 1500, replace=False)\n",
        "ind_train_class_1 = np.random.choice(df[df.iloc[:,-1]==1].index, 1500, replace=False)\n",
        "ind_train = []\n",
        "s = [ind_train.append(i) for i in ind_train_class_0]\n",
        "s = [ind_train.append(i) for i in ind_train_class_1]\n",
        "len(ind_train)"
      ],
      "execution_count": 10,
      "outputs": [
        {
          "output_type": "execute_result",
          "data": {
            "text/plain": [
              "3000"
            ]
          },
          "metadata": {
            "tags": []
          },
          "execution_count": 10
        }
      ]
    },
    {
      "cell_type": "code",
      "metadata": {
        "colab": {
          "base_uri": "https://localhost:8080/"
        },
        "id": "aRY4J3p4jis6",
        "outputId": "6f6b99ba-7a95-431c-a1bf-30ed73c3b541"
      },
      "source": [
        "train_data = df.iloc[ind_train,:-1]\n",
        "train_target = df.iloc[ind_train,-1]\n",
        "train_target.value_counts()"
      ],
      "execution_count": 11,
      "outputs": [
        {
          "output_type": "execute_result",
          "data": {
            "text/plain": [
              "1    1500\n",
              "0    1500\n",
              "Name: 57, dtype: int64"
            ]
          },
          "metadata": {
            "tags": []
          },
          "execution_count": 11
        }
      ]
    },
    {
      "cell_type": "code",
      "metadata": {
        "colab": {
          "base_uri": "https://localhost:8080/"
        },
        "id": "87PcOb10jlQm",
        "outputId": "6f306ba5-e43a-4c07-98c2-e2a92ec059c3"
      },
      "source": [
        "# the rest of the observations will be use for testing\n",
        "ind_test = []\n",
        "s = [ind_test.append(i) for i in df.index if (i not in ind_train)]\n",
        "len(ind_test)"
      ],
      "execution_count": 12,
      "outputs": [
        {
          "output_type": "execute_result",
          "data": {
            "text/plain": [
              "1601"
            ]
          },
          "metadata": {
            "tags": []
          },
          "execution_count": 12
        }
      ]
    },
    {
      "cell_type": "code",
      "metadata": {
        "id": "2tJeEzl1jngq"
      },
      "source": [
        "test_data = df.iloc[ind_test,:-1]\n",
        "test_target = df.iloc[ind_test,-1]"
      ],
      "execution_count": 13,
      "outputs": []
    },
    {
      "cell_type": "code",
      "metadata": {
        "id": "EYZ_JSvijrW7"
      },
      "source": [
        "# vectorize\n",
        "train_data, test_data, train_target, test_target = train_data.to_numpy() , test_data.to_numpy(), train_target.to_numpy(), test_target.to_numpy()"
      ],
      "execution_count": 14,
      "outputs": []
    },
    {
      "cell_type": "code",
      "metadata": {
        "id": "QYexD0BCjvz3"
      },
      "source": [
        "# standardize\n",
        "mean = train_data.mean(axis=0)\n",
        "train_data -= mean\n",
        "std = train_data.std(axis=0)\n",
        "train_data /= std\n",
        "\n",
        "test_data -= mean\n",
        "test_data /= std"
      ],
      "execution_count": 15,
      "outputs": []
    },
    {
      "cell_type": "code",
      "metadata": {
        "id": "Y-QpWJ0Zj7l8"
      },
      "source": [
        "# Load_spam_data\n",
        "def load_spam_data ():\n",
        "\n",
        "  # Load the dataframe\n",
        "  df = pd.read_csv('spambase.data', header=None)\n",
        "\n",
        "  # train test split\n",
        "\n",
        "  # 1500 indexes of class 0 and 1500 indexes class 1, for the training set so as to have 70/30 training/test split\n",
        "  np.random.seed(42)                                                                    # Create seed for reproducibility\n",
        "  ind_train_class_0 = np.random.choice(df[df.iloc[:,-1]==0].index, 1500, replace=False) # Choose randomly\n",
        "  ind_train_class_1 = np.random.choice(df[df.iloc[:,-1]==1].index, 1500, replace=False) # Choose randomly\n",
        "  ind_train = []                                                                        # Initialize container of indexes\n",
        "  [ind_train.append(i) for i in ind_train_class_0]                                      # Get indexes for class 0\n",
        "  [ind_train.append(i) for i in ind_train_class_1]                                      # Get indexes for class 1\n",
        "  train_data = df.iloc[ind_train,:-1]                                                   # create training data\n",
        "  train_target = df.iloc[ind_train,-1]                                                  # create target of the training data\n",
        "  train_target.value_counts()\n",
        "\n",
        "  # the rest of the observations will be use for testing\n",
        "  ind_test = []\n",
        "  [ind_test.append(i) for i in df.index if (i not in ind_train)]\n",
        "  test_data = df.iloc[ind_test,:-1]\n",
        "  test_target = df.iloc[ind_test,-1]\n",
        "\n",
        "  # vectorize \n",
        "  train_data, test_data, train_target, test_target = train_data.to_numpy() , test_data.to_numpy(), train_target.to_numpy(), test_target.to_numpy()\n",
        "\n",
        "  # normalize\n",
        "  mean = train_data.mean(axis=0)\n",
        "  train_data -= mean\n",
        "  std = train_data.std(axis=0)\n",
        "  train_data /= std\n",
        "\n",
        "  test_data -= mean\n",
        "  test_data /= std\n",
        "\n",
        "  return (train_data, train_target) , (test_data, test_target)"
      ],
      "execution_count": 16,
      "outputs": []
    },
    {
      "cell_type": "code",
      "metadata": {
        "id": "LNoL7zEbkUC0"
      },
      "source": [
        "(train_data, train_target) , (test_data, test_target) = load_spam_data()"
      ],
      "execution_count": 17,
      "outputs": []
    },
    {
      "cell_type": "code",
      "metadata": {
        "colab": {
          "base_uri": "https://localhost:8080/"
        },
        "id": "NGLfrjqfkzuh",
        "outputId": "eca2ee57-cc2b-4bac-97c2-e019aba7b840"
      },
      "source": [
        "train_data.shape"
      ],
      "execution_count": 18,
      "outputs": [
        {
          "output_type": "execute_result",
          "data": {
            "text/plain": [
              "(3000, 57)"
            ]
          },
          "metadata": {
            "tags": []
          },
          "execution_count": 18
        }
      ]
    },
    {
      "cell_type": "markdown",
      "metadata": {
        "id": "LogX6S-6YfOG"
      },
      "source": [
        "# Step 2 : Prepare the data"
      ]
    },
    {
      "cell_type": "code",
      "metadata": {
        "colab": {
          "base_uri": "https://localhost:8080/"
        },
        "id": "R6Bo9Ugrk1to",
        "outputId": "a849e073-61e5-4dbf-bfdd-eacd813f54b4"
      },
      "source": [
        "# Create validation set\n",
        "# Randomly select 600 data for validation, so as to have 80/20 training/validation split\n",
        "np.random.seed(42)\n",
        "ind_val_class_0 = np.random.choice(np.where(train_target == 0)[0], 300, replace=False)\n",
        "ind_val_class_1 = np.random.choice(np.where(train_target == 1)[0], 300, replace=False)\n",
        "ind_val = []\n",
        "s = [ind_val.append(i) for i in ind_val_class_0]\n",
        "s = [ind_val.append(i) for i in ind_val_class_1]\n",
        "len(ind_val)"
      ],
      "execution_count": 19,
      "outputs": [
        {
          "output_type": "execute_result",
          "data": {
            "text/plain": [
              "600"
            ]
          },
          "metadata": {
            "tags": []
          },
          "execution_count": 19
        }
      ]
    },
    {
      "cell_type": "code",
      "metadata": {
        "colab": {
          "base_uri": "https://localhost:8080/"
        },
        "id": "8-imslPZk4yc",
        "outputId": "19c966ca-37ff-42a4-8276-95f0673dd44e"
      },
      "source": [
        "# Validation set\n",
        "x_val = train_data[ind_val]\n",
        "y_val = train_target[ind_val]\n",
        "# training set\n",
        "train_ind = []\n",
        "s = [train_ind.append(i) for i in np.where(train_target == 0)[0] if i not in ind_val]\n",
        "s = [train_ind.append(i) for i in np.where(train_target == 1)[0] if i not in ind_val]\n",
        "x_train = train_data[train_ind]\n",
        "y_train = train_target[train_ind]\n",
        "len(y_train)"
      ],
      "execution_count": 20,
      "outputs": [
        {
          "output_type": "execute_result",
          "data": {
            "text/plain": [
              "2400"
            ]
          },
          "metadata": {
            "tags": []
          },
          "execution_count": 20
        }
      ]
    },
    {
      "cell_type": "code",
      "metadata": {
        "colab": {
          "base_uri": "https://localhost:8080/"
        },
        "id": "SXBPARxGqc5l",
        "outputId": "5400faf9-4a7d-4d68-d1ee-77573ebeba5d"
      },
      "source": [
        "sum(y_train)"
      ],
      "execution_count": 21,
      "outputs": [
        {
          "output_type": "execute_result",
          "data": {
            "text/plain": [
              "1200"
            ]
          },
          "metadata": {
            "tags": []
          },
          "execution_count": 21
        }
      ]
    },
    {
      "cell_type": "markdown",
      "metadata": {
        "id": "ASj1mK0kae23"
      },
      "source": [
        "So we have a balanced dataset"
      ]
    },
    {
      "cell_type": "markdown",
      "metadata": {
        "id": "NbENx7qfY5lK"
      },
      "source": [
        "# Step 3 : Build the network"
      ]
    },
    {
      "cell_type": "code",
      "metadata": {
        "id": "NVX0bkHxqvqx"
      },
      "source": [
        "model = models.Sequential()\n",
        "model.add(layers.Dense(26, activation='relu', input_shape=(57,)))\n",
        "model.add(layers.Dense(1, activation='sigmoid'))"
      ],
      "execution_count": 22,
      "outputs": []
    },
    {
      "cell_type": "code",
      "metadata": {
        "id": "NNUdrAeqrsV5"
      },
      "source": [
        "model.compile(optimizer='adam',loss='binary_crossentropy', metrics=['accuracy'])"
      ],
      "execution_count": 23,
      "outputs": []
    },
    {
      "cell_type": "markdown",
      "metadata": {
        "id": "QFb1B2kyZBEU"
      },
      "source": [
        "# Step 4 : Train the model"
      ]
    },
    {
      "cell_type": "code",
      "metadata": {
        "colab": {
          "base_uri": "https://localhost:8080/"
        },
        "id": "nQVEsucc6NOD",
        "outputId": "0b752e62-9530-43b7-b5d2-3edb9ed02156"
      },
      "source": [
        "history = model.fit(x_train, y_train, epochs=200, validation_data = (x_val, y_val), batch_size=200)"
      ],
      "execution_count": 24,
      "outputs": [
        {
          "output_type": "stream",
          "text": [
            "Epoch 1/200\n",
            "12/12 [==============================] - 2s 22ms/step - loss: 0.7817 - accuracy: 0.5320 - val_loss: 0.6453 - val_accuracy: 0.6467\n",
            "Epoch 2/200\n",
            "12/12 [==============================] - 0s 8ms/step - loss: 0.6196 - accuracy: 0.6885 - val_loss: 0.5418 - val_accuracy: 0.7550\n",
            "Epoch 3/200\n",
            "12/12 [==============================] - 0s 5ms/step - loss: 0.5244 - accuracy: 0.7642 - val_loss: 0.4724 - val_accuracy: 0.8083\n",
            "Epoch 4/200\n",
            "12/12 [==============================] - 0s 5ms/step - loss: 0.4759 - accuracy: 0.7861 - val_loss: 0.4240 - val_accuracy: 0.8617\n",
            "Epoch 5/200\n",
            "12/12 [==============================] - 0s 5ms/step - loss: 0.4215 - accuracy: 0.8328 - val_loss: 0.3895 - val_accuracy: 0.8700\n",
            "Epoch 6/200\n",
            "12/12 [==============================] - 0s 5ms/step - loss: 0.3930 - accuracy: 0.8475 - val_loss: 0.3632 - val_accuracy: 0.8800\n",
            "Epoch 7/200\n",
            "12/12 [==============================] - 0s 5ms/step - loss: 0.3614 - accuracy: 0.8704 - val_loss: 0.3419 - val_accuracy: 0.8883\n",
            "Epoch 8/200\n",
            "12/12 [==============================] - 0s 5ms/step - loss: 0.3310 - accuracy: 0.8846 - val_loss: 0.3246 - val_accuracy: 0.8900\n",
            "Epoch 9/200\n",
            "12/12 [==============================] - 0s 5ms/step - loss: 0.3318 - accuracy: 0.8838 - val_loss: 0.3097 - val_accuracy: 0.8950\n",
            "Epoch 10/200\n",
            "12/12 [==============================] - 0s 6ms/step - loss: 0.3030 - accuracy: 0.9007 - val_loss: 0.2966 - val_accuracy: 0.9000\n",
            "Epoch 11/200\n",
            "12/12 [==============================] - 0s 5ms/step - loss: 0.3033 - accuracy: 0.8962 - val_loss: 0.2854 - val_accuracy: 0.9067\n",
            "Epoch 12/200\n",
            "12/12 [==============================] - 0s 6ms/step - loss: 0.2763 - accuracy: 0.9118 - val_loss: 0.2756 - val_accuracy: 0.9117\n",
            "Epoch 13/200\n",
            "12/12 [==============================] - 0s 5ms/step - loss: 0.2710 - accuracy: 0.9158 - val_loss: 0.2663 - val_accuracy: 0.9150\n",
            "Epoch 14/200\n",
            "12/12 [==============================] - 0s 5ms/step - loss: 0.2635 - accuracy: 0.9140 - val_loss: 0.2584 - val_accuracy: 0.9167\n",
            "Epoch 15/200\n",
            "12/12 [==============================] - 0s 6ms/step - loss: 0.2572 - accuracy: 0.9211 - val_loss: 0.2509 - val_accuracy: 0.9167\n",
            "Epoch 16/200\n",
            "12/12 [==============================] - 0s 5ms/step - loss: 0.2528 - accuracy: 0.9250 - val_loss: 0.2439 - val_accuracy: 0.9150\n",
            "Epoch 17/200\n",
            "12/12 [==============================] - 0s 5ms/step - loss: 0.2329 - accuracy: 0.9253 - val_loss: 0.2377 - val_accuracy: 0.9167\n",
            "Epoch 18/200\n",
            "12/12 [==============================] - 0s 5ms/step - loss: 0.2250 - accuracy: 0.9300 - val_loss: 0.2317 - val_accuracy: 0.9167\n",
            "Epoch 19/200\n",
            "12/12 [==============================] - 0s 5ms/step - loss: 0.2266 - accuracy: 0.9274 - val_loss: 0.2266 - val_accuracy: 0.9167\n",
            "Epoch 20/200\n",
            "12/12 [==============================] - 0s 5ms/step - loss: 0.2223 - accuracy: 0.9242 - val_loss: 0.2218 - val_accuracy: 0.9133\n",
            "Epoch 21/200\n",
            "12/12 [==============================] - 0s 5ms/step - loss: 0.2272 - accuracy: 0.9205 - val_loss: 0.2168 - val_accuracy: 0.9133\n",
            "Epoch 22/200\n",
            "12/12 [==============================] - 0s 5ms/step - loss: 0.2294 - accuracy: 0.9201 - val_loss: 0.2123 - val_accuracy: 0.9167\n",
            "Epoch 23/200\n",
            "12/12 [==============================] - 0s 13ms/step - loss: 0.2168 - accuracy: 0.9252 - val_loss: 0.2088 - val_accuracy: 0.9167\n",
            "Epoch 24/200\n",
            "12/12 [==============================] - 0s 5ms/step - loss: 0.2027 - accuracy: 0.9319 - val_loss: 0.2049 - val_accuracy: 0.9183\n",
            "Epoch 25/200\n",
            "12/12 [==============================] - 0s 7ms/step - loss: 0.2124 - accuracy: 0.9248 - val_loss: 0.2016 - val_accuracy: 0.9200\n",
            "Epoch 26/200\n",
            "12/12 [==============================] - 0s 5ms/step - loss: 0.2188 - accuracy: 0.9230 - val_loss: 0.1981 - val_accuracy: 0.9217\n",
            "Epoch 27/200\n",
            "12/12 [==============================] - 0s 5ms/step - loss: 0.1856 - accuracy: 0.9385 - val_loss: 0.1953 - val_accuracy: 0.9217\n",
            "Epoch 28/200\n",
            "12/12 [==============================] - 0s 5ms/step - loss: 0.2030 - accuracy: 0.9307 - val_loss: 0.1925 - val_accuracy: 0.9217\n",
            "Epoch 29/200\n",
            "12/12 [==============================] - 0s 5ms/step - loss: 0.1930 - accuracy: 0.9362 - val_loss: 0.1900 - val_accuracy: 0.9217\n",
            "Epoch 30/200\n",
            "12/12 [==============================] - 0s 5ms/step - loss: 0.1845 - accuracy: 0.9358 - val_loss: 0.1873 - val_accuracy: 0.9233\n",
            "Epoch 31/200\n",
            "12/12 [==============================] - 0s 5ms/step - loss: 0.1929 - accuracy: 0.9371 - val_loss: 0.1848 - val_accuracy: 0.9250\n",
            "Epoch 32/200\n",
            "12/12 [==============================] - 0s 5ms/step - loss: 0.1864 - accuracy: 0.9335 - val_loss: 0.1826 - val_accuracy: 0.9300\n",
            "Epoch 33/200\n",
            "12/12 [==============================] - 0s 5ms/step - loss: 0.1791 - accuracy: 0.9375 - val_loss: 0.1804 - val_accuracy: 0.9300\n",
            "Epoch 34/200\n",
            "12/12 [==============================] - 0s 5ms/step - loss: 0.1705 - accuracy: 0.9391 - val_loss: 0.1783 - val_accuracy: 0.9300\n",
            "Epoch 35/200\n",
            "12/12 [==============================] - 0s 5ms/step - loss: 0.1750 - accuracy: 0.9376 - val_loss: 0.1762 - val_accuracy: 0.9300\n",
            "Epoch 36/200\n",
            "12/12 [==============================] - 0s 5ms/step - loss: 0.1857 - accuracy: 0.9404 - val_loss: 0.1748 - val_accuracy: 0.9317\n",
            "Epoch 37/200\n",
            "12/12 [==============================] - 0s 6ms/step - loss: 0.1623 - accuracy: 0.9496 - val_loss: 0.1732 - val_accuracy: 0.9317\n",
            "Epoch 38/200\n",
            "12/12 [==============================] - 0s 5ms/step - loss: 0.1766 - accuracy: 0.9435 - val_loss: 0.1717 - val_accuracy: 0.9300\n",
            "Epoch 39/200\n",
            "12/12 [==============================] - 0s 6ms/step - loss: 0.1593 - accuracy: 0.9484 - val_loss: 0.1701 - val_accuracy: 0.9333\n",
            "Epoch 40/200\n",
            "12/12 [==============================] - 0s 7ms/step - loss: 0.1712 - accuracy: 0.9397 - val_loss: 0.1690 - val_accuracy: 0.9300\n",
            "Epoch 41/200\n",
            "12/12 [==============================] - 0s 5ms/step - loss: 0.1792 - accuracy: 0.9378 - val_loss: 0.1678 - val_accuracy: 0.9300\n",
            "Epoch 42/200\n",
            "12/12 [==============================] - 0s 5ms/step - loss: 0.1496 - accuracy: 0.9519 - val_loss: 0.1664 - val_accuracy: 0.9317\n",
            "Epoch 43/200\n",
            "12/12 [==============================] - 0s 4ms/step - loss: 0.1688 - accuracy: 0.9464 - val_loss: 0.1656 - val_accuracy: 0.9300\n",
            "Epoch 44/200\n",
            "12/12 [==============================] - 0s 5ms/step - loss: 0.1653 - accuracy: 0.9466 - val_loss: 0.1647 - val_accuracy: 0.9317\n",
            "Epoch 45/200\n",
            "12/12 [==============================] - 0s 5ms/step - loss: 0.1608 - accuracy: 0.9508 - val_loss: 0.1636 - val_accuracy: 0.9317\n",
            "Epoch 46/200\n",
            "12/12 [==============================] - 0s 5ms/step - loss: 0.1656 - accuracy: 0.9450 - val_loss: 0.1627 - val_accuracy: 0.9317\n",
            "Epoch 47/200\n",
            "12/12 [==============================] - 0s 5ms/step - loss: 0.1523 - accuracy: 0.9503 - val_loss: 0.1618 - val_accuracy: 0.9333\n",
            "Epoch 48/200\n",
            "12/12 [==============================] - 0s 5ms/step - loss: 0.1467 - accuracy: 0.9539 - val_loss: 0.1613 - val_accuracy: 0.9350\n",
            "Epoch 49/200\n",
            "12/12 [==============================] - 0s 5ms/step - loss: 0.1621 - accuracy: 0.9490 - val_loss: 0.1604 - val_accuracy: 0.9333\n",
            "Epoch 50/200\n",
            "12/12 [==============================] - 0s 5ms/step - loss: 0.1528 - accuracy: 0.9464 - val_loss: 0.1595 - val_accuracy: 0.9317\n",
            "Epoch 51/200\n",
            "12/12 [==============================] - 0s 5ms/step - loss: 0.1410 - accuracy: 0.9543 - val_loss: 0.1591 - val_accuracy: 0.9317\n",
            "Epoch 52/200\n",
            "12/12 [==============================] - 0s 5ms/step - loss: 0.1571 - accuracy: 0.9484 - val_loss: 0.1583 - val_accuracy: 0.9317\n",
            "Epoch 53/200\n",
            "12/12 [==============================] - 0s 6ms/step - loss: 0.1557 - accuracy: 0.9456 - val_loss: 0.1578 - val_accuracy: 0.9333\n",
            "Epoch 54/200\n",
            "12/12 [==============================] - 0s 5ms/step - loss: 0.1661 - accuracy: 0.9387 - val_loss: 0.1576 - val_accuracy: 0.9333\n",
            "Epoch 55/200\n",
            "12/12 [==============================] - 0s 5ms/step - loss: 0.1510 - accuracy: 0.9520 - val_loss: 0.1568 - val_accuracy: 0.9333\n",
            "Epoch 56/200\n",
            "12/12 [==============================] - 0s 5ms/step - loss: 0.1442 - accuracy: 0.9509 - val_loss: 0.1564 - val_accuracy: 0.9317\n",
            "Epoch 57/200\n",
            "12/12 [==============================] - 0s 5ms/step - loss: 0.1536 - accuracy: 0.9489 - val_loss: 0.1559 - val_accuracy: 0.9317\n",
            "Epoch 58/200\n",
            "12/12 [==============================] - 0s 5ms/step - loss: 0.1440 - accuracy: 0.9524 - val_loss: 0.1551 - val_accuracy: 0.9317\n",
            "Epoch 59/200\n",
            "12/12 [==============================] - 0s 5ms/step - loss: 0.1420 - accuracy: 0.9523 - val_loss: 0.1548 - val_accuracy: 0.9317\n",
            "Epoch 60/200\n",
            "12/12 [==============================] - 0s 6ms/step - loss: 0.1535 - accuracy: 0.9479 - val_loss: 0.1539 - val_accuracy: 0.9333\n",
            "Epoch 61/200\n",
            "12/12 [==============================] - 0s 6ms/step - loss: 0.1402 - accuracy: 0.9503 - val_loss: 0.1535 - val_accuracy: 0.9350\n",
            "Epoch 62/200\n",
            "12/12 [==============================] - 0s 5ms/step - loss: 0.1351 - accuracy: 0.9547 - val_loss: 0.1531 - val_accuracy: 0.9350\n",
            "Epoch 63/200\n",
            "12/12 [==============================] - 0s 5ms/step - loss: 0.1323 - accuracy: 0.9558 - val_loss: 0.1530 - val_accuracy: 0.9317\n",
            "Epoch 64/200\n",
            "12/12 [==============================] - 0s 5ms/step - loss: 0.1389 - accuracy: 0.9539 - val_loss: 0.1527 - val_accuracy: 0.9350\n",
            "Epoch 65/200\n",
            "12/12 [==============================] - 0s 14ms/step - loss: 0.1373 - accuracy: 0.9481 - val_loss: 0.1522 - val_accuracy: 0.9367\n",
            "Epoch 66/200\n",
            "12/12 [==============================] - 0s 6ms/step - loss: 0.1379 - accuracy: 0.9571 - val_loss: 0.1520 - val_accuracy: 0.9383\n",
            "Epoch 67/200\n",
            "12/12 [==============================] - 0s 5ms/step - loss: 0.1468 - accuracy: 0.9471 - val_loss: 0.1516 - val_accuracy: 0.9350\n",
            "Epoch 68/200\n",
            "12/12 [==============================] - 0s 5ms/step - loss: 0.1355 - accuracy: 0.9543 - val_loss: 0.1512 - val_accuracy: 0.9367\n",
            "Epoch 69/200\n",
            "12/12 [==============================] - 0s 5ms/step - loss: 0.1362 - accuracy: 0.9566 - val_loss: 0.1507 - val_accuracy: 0.9350\n",
            "Epoch 70/200\n",
            "12/12 [==============================] - 0s 5ms/step - loss: 0.1345 - accuracy: 0.9552 - val_loss: 0.1500 - val_accuracy: 0.9383\n",
            "Epoch 71/200\n",
            "12/12 [==============================] - 0s 6ms/step - loss: 0.1337 - accuracy: 0.9557 - val_loss: 0.1499 - val_accuracy: 0.9400\n",
            "Epoch 72/200\n",
            "12/12 [==============================] - 0s 6ms/step - loss: 0.1298 - accuracy: 0.9585 - val_loss: 0.1495 - val_accuracy: 0.9350\n",
            "Epoch 73/200\n",
            "12/12 [==============================] - 0s 5ms/step - loss: 0.1333 - accuracy: 0.9539 - val_loss: 0.1491 - val_accuracy: 0.9367\n",
            "Epoch 74/200\n",
            "12/12 [==============================] - 0s 5ms/step - loss: 0.1301 - accuracy: 0.9523 - val_loss: 0.1489 - val_accuracy: 0.9350\n",
            "Epoch 75/200\n",
            "12/12 [==============================] - 0s 5ms/step - loss: 0.1410 - accuracy: 0.9487 - val_loss: 0.1482 - val_accuracy: 0.9350\n",
            "Epoch 76/200\n",
            "12/12 [==============================] - 0s 8ms/step - loss: 0.1237 - accuracy: 0.9579 - val_loss: 0.1480 - val_accuracy: 0.9367\n",
            "Epoch 77/200\n",
            "12/12 [==============================] - 0s 7ms/step - loss: 0.1399 - accuracy: 0.9482 - val_loss: 0.1480 - val_accuracy: 0.9400\n",
            "Epoch 78/200\n",
            "12/12 [==============================] - 0s 5ms/step - loss: 0.1308 - accuracy: 0.9530 - val_loss: 0.1477 - val_accuracy: 0.9383\n",
            "Epoch 79/200\n",
            "12/12 [==============================] - 0s 5ms/step - loss: 0.1233 - accuracy: 0.9596 - val_loss: 0.1475 - val_accuracy: 0.9350\n",
            "Epoch 80/200\n",
            "12/12 [==============================] - 0s 5ms/step - loss: 0.1318 - accuracy: 0.9554 - val_loss: 0.1471 - val_accuracy: 0.9367\n",
            "Epoch 81/200\n",
            "12/12 [==============================] - 0s 5ms/step - loss: 0.1218 - accuracy: 0.9588 - val_loss: 0.1467 - val_accuracy: 0.9350\n",
            "Epoch 82/200\n",
            "12/12 [==============================] - 0s 4ms/step - loss: 0.1369 - accuracy: 0.9494 - val_loss: 0.1467 - val_accuracy: 0.9383\n",
            "Epoch 83/200\n",
            "12/12 [==============================] - 0s 5ms/step - loss: 0.1238 - accuracy: 0.9606 - val_loss: 0.1463 - val_accuracy: 0.9350\n",
            "Epoch 84/200\n",
            "12/12 [==============================] - 0s 5ms/step - loss: 0.1248 - accuracy: 0.9596 - val_loss: 0.1459 - val_accuracy: 0.9383\n",
            "Epoch 85/200\n",
            "12/12 [==============================] - 0s 5ms/step - loss: 0.1180 - accuracy: 0.9625 - val_loss: 0.1459 - val_accuracy: 0.9333\n",
            "Epoch 86/200\n",
            "12/12 [==============================] - 0s 5ms/step - loss: 0.1140 - accuracy: 0.9615 - val_loss: 0.1456 - val_accuracy: 0.9350\n",
            "Epoch 87/200\n",
            "12/12 [==============================] - 0s 5ms/step - loss: 0.1227 - accuracy: 0.9545 - val_loss: 0.1455 - val_accuracy: 0.9350\n",
            "Epoch 88/200\n",
            "12/12 [==============================] - 0s 5ms/step - loss: 0.1146 - accuracy: 0.9583 - val_loss: 0.1450 - val_accuracy: 0.9350\n",
            "Epoch 89/200\n",
            "12/12 [==============================] - 0s 5ms/step - loss: 0.1205 - accuracy: 0.9576 - val_loss: 0.1449 - val_accuracy: 0.9383\n",
            "Epoch 90/200\n",
            "12/12 [==============================] - 0s 6ms/step - loss: 0.1128 - accuracy: 0.9584 - val_loss: 0.1446 - val_accuracy: 0.9350\n",
            "Epoch 91/200\n",
            "12/12 [==============================] - 0s 5ms/step - loss: 0.1084 - accuracy: 0.9628 - val_loss: 0.1448 - val_accuracy: 0.9400\n",
            "Epoch 92/200\n",
            "12/12 [==============================] - 0s 5ms/step - loss: 0.1157 - accuracy: 0.9623 - val_loss: 0.1448 - val_accuracy: 0.9350\n",
            "Epoch 93/200\n",
            "12/12 [==============================] - 0s 5ms/step - loss: 0.1069 - accuracy: 0.9640 - val_loss: 0.1441 - val_accuracy: 0.9367\n",
            "Epoch 94/200\n",
            "12/12 [==============================] - 0s 5ms/step - loss: 0.1163 - accuracy: 0.9565 - val_loss: 0.1438 - val_accuracy: 0.9383\n",
            "Epoch 95/200\n",
            "12/12 [==============================] - 0s 5ms/step - loss: 0.1146 - accuracy: 0.9600 - val_loss: 0.1437 - val_accuracy: 0.9383\n",
            "Epoch 96/200\n",
            "12/12 [==============================] - 0s 5ms/step - loss: 0.1149 - accuracy: 0.9617 - val_loss: 0.1440 - val_accuracy: 0.9383\n",
            "Epoch 97/200\n",
            "12/12 [==============================] - 0s 5ms/step - loss: 0.1046 - accuracy: 0.9702 - val_loss: 0.1441 - val_accuracy: 0.9383\n",
            "Epoch 98/200\n",
            "12/12 [==============================] - 0s 5ms/step - loss: 0.1136 - accuracy: 0.9637 - val_loss: 0.1436 - val_accuracy: 0.9367\n",
            "Epoch 99/200\n",
            "12/12 [==============================] - 0s 5ms/step - loss: 0.1078 - accuracy: 0.9640 - val_loss: 0.1434 - val_accuracy: 0.9367\n",
            "Epoch 100/200\n",
            "12/12 [==============================] - 0s 5ms/step - loss: 0.1163 - accuracy: 0.9612 - val_loss: 0.1436 - val_accuracy: 0.9367\n",
            "Epoch 101/200\n",
            "12/12 [==============================] - 0s 5ms/step - loss: 0.1277 - accuracy: 0.9608 - val_loss: 0.1434 - val_accuracy: 0.9383\n",
            "Epoch 102/200\n",
            "12/12 [==============================] - 0s 5ms/step - loss: 0.1182 - accuracy: 0.9608 - val_loss: 0.1434 - val_accuracy: 0.9367\n",
            "Epoch 103/200\n",
            "12/12 [==============================] - 0s 5ms/step - loss: 0.1047 - accuracy: 0.9663 - val_loss: 0.1432 - val_accuracy: 0.9383\n",
            "Epoch 104/200\n",
            "12/12 [==============================] - 0s 5ms/step - loss: 0.1112 - accuracy: 0.9595 - val_loss: 0.1431 - val_accuracy: 0.9367\n",
            "Epoch 105/200\n",
            "12/12 [==============================] - 0s 5ms/step - loss: 0.1215 - accuracy: 0.9624 - val_loss: 0.1427 - val_accuracy: 0.9367\n",
            "Epoch 106/200\n",
            "12/12 [==============================] - 0s 5ms/step - loss: 0.1110 - accuracy: 0.9664 - val_loss: 0.1428 - val_accuracy: 0.9383\n",
            "Epoch 107/200\n",
            "12/12 [==============================] - 0s 5ms/step - loss: 0.1031 - accuracy: 0.9673 - val_loss: 0.1429 - val_accuracy: 0.9367\n",
            "Epoch 108/200\n",
            "12/12 [==============================] - 0s 5ms/step - loss: 0.1106 - accuracy: 0.9656 - val_loss: 0.1429 - val_accuracy: 0.9350\n",
            "Epoch 109/200\n",
            "12/12 [==============================] - 0s 5ms/step - loss: 0.1095 - accuracy: 0.9645 - val_loss: 0.1425 - val_accuracy: 0.9367\n",
            "Epoch 110/200\n",
            "12/12 [==============================] - 0s 9ms/step - loss: 0.1118 - accuracy: 0.9629 - val_loss: 0.1427 - val_accuracy: 0.9350\n",
            "Epoch 111/200\n",
            "12/12 [==============================] - 0s 5ms/step - loss: 0.1161 - accuracy: 0.9612 - val_loss: 0.1427 - val_accuracy: 0.9367\n",
            "Epoch 112/200\n",
            "12/12 [==============================] - 0s 5ms/step - loss: 0.1104 - accuracy: 0.9688 - val_loss: 0.1422 - val_accuracy: 0.9383\n",
            "Epoch 113/200\n",
            "12/12 [==============================] - 0s 5ms/step - loss: 0.1025 - accuracy: 0.9659 - val_loss: 0.1423 - val_accuracy: 0.9400\n",
            "Epoch 114/200\n",
            "12/12 [==============================] - 0s 5ms/step - loss: 0.1229 - accuracy: 0.9580 - val_loss: 0.1422 - val_accuracy: 0.9383\n",
            "Epoch 115/200\n",
            "12/12 [==============================] - 0s 13ms/step - loss: 0.1089 - accuracy: 0.9631 - val_loss: 0.1421 - val_accuracy: 0.9383\n",
            "Epoch 116/200\n",
            "12/12 [==============================] - 0s 5ms/step - loss: 0.1084 - accuracy: 0.9624 - val_loss: 0.1419 - val_accuracy: 0.9400\n",
            "Epoch 117/200\n",
            "12/12 [==============================] - 0s 5ms/step - loss: 0.1102 - accuracy: 0.9657 - val_loss: 0.1420 - val_accuracy: 0.9383\n",
            "Epoch 118/200\n",
            "12/12 [==============================] - 0s 5ms/step - loss: 0.0978 - accuracy: 0.9676 - val_loss: 0.1421 - val_accuracy: 0.9383\n",
            "Epoch 119/200\n",
            "12/12 [==============================] - 0s 6ms/step - loss: 0.1049 - accuracy: 0.9673 - val_loss: 0.1420 - val_accuracy: 0.9400\n",
            "Epoch 120/200\n",
            "12/12 [==============================] - 0s 5ms/step - loss: 0.1009 - accuracy: 0.9694 - val_loss: 0.1419 - val_accuracy: 0.9400\n",
            "Epoch 121/200\n",
            "12/12 [==============================] - 0s 5ms/step - loss: 0.1008 - accuracy: 0.9713 - val_loss: 0.1416 - val_accuracy: 0.9400\n",
            "Epoch 122/200\n",
            "12/12 [==============================] - 0s 5ms/step - loss: 0.1040 - accuracy: 0.9674 - val_loss: 0.1419 - val_accuracy: 0.9417\n",
            "Epoch 123/200\n",
            "12/12 [==============================] - 0s 5ms/step - loss: 0.1079 - accuracy: 0.9685 - val_loss: 0.1415 - val_accuracy: 0.9400\n",
            "Epoch 124/200\n",
            "12/12 [==============================] - 0s 5ms/step - loss: 0.1101 - accuracy: 0.9660 - val_loss: 0.1416 - val_accuracy: 0.9400\n",
            "Epoch 125/200\n",
            "12/12 [==============================] - 0s 6ms/step - loss: 0.1021 - accuracy: 0.9672 - val_loss: 0.1418 - val_accuracy: 0.9417\n",
            "Epoch 126/200\n",
            "12/12 [==============================] - 0s 5ms/step - loss: 0.1047 - accuracy: 0.9678 - val_loss: 0.1417 - val_accuracy: 0.9417\n",
            "Epoch 127/200\n",
            "12/12 [==============================] - 0s 5ms/step - loss: 0.0988 - accuracy: 0.9695 - val_loss: 0.1416 - val_accuracy: 0.9417\n",
            "Epoch 128/200\n",
            "12/12 [==============================] - 0s 4ms/step - loss: 0.1025 - accuracy: 0.9667 - val_loss: 0.1417 - val_accuracy: 0.9417\n",
            "Epoch 129/200\n",
            "12/12 [==============================] - 0s 5ms/step - loss: 0.1113 - accuracy: 0.9660 - val_loss: 0.1417 - val_accuracy: 0.9417\n",
            "Epoch 130/200\n",
            "12/12 [==============================] - 0s 5ms/step - loss: 0.0990 - accuracy: 0.9685 - val_loss: 0.1417 - val_accuracy: 0.9417\n",
            "Epoch 131/200\n",
            "12/12 [==============================] - 0s 5ms/step - loss: 0.1122 - accuracy: 0.9635 - val_loss: 0.1416 - val_accuracy: 0.9417\n",
            "Epoch 132/200\n",
            "12/12 [==============================] - 0s 5ms/step - loss: 0.1034 - accuracy: 0.9648 - val_loss: 0.1415 - val_accuracy: 0.9417\n",
            "Epoch 133/200\n",
            "12/12 [==============================] - 0s 6ms/step - loss: 0.1033 - accuracy: 0.9674 - val_loss: 0.1415 - val_accuracy: 0.9417\n",
            "Epoch 134/200\n",
            "12/12 [==============================] - 0s 7ms/step - loss: 0.1165 - accuracy: 0.9624 - val_loss: 0.1419 - val_accuracy: 0.9417\n",
            "Epoch 135/200\n",
            "12/12 [==============================] - 0s 5ms/step - loss: 0.0937 - accuracy: 0.9686 - val_loss: 0.1419 - val_accuracy: 0.9417\n",
            "Epoch 136/200\n",
            "12/12 [==============================] - 0s 5ms/step - loss: 0.0995 - accuracy: 0.9662 - val_loss: 0.1414 - val_accuracy: 0.9433\n",
            "Epoch 137/200\n",
            "12/12 [==============================] - 0s 6ms/step - loss: 0.0929 - accuracy: 0.9712 - val_loss: 0.1416 - val_accuracy: 0.9417\n",
            "Epoch 138/200\n",
            "12/12 [==============================] - 0s 6ms/step - loss: 0.1000 - accuracy: 0.9706 - val_loss: 0.1416 - val_accuracy: 0.9417\n",
            "Epoch 139/200\n",
            "12/12 [==============================] - 0s 5ms/step - loss: 0.0893 - accuracy: 0.9735 - val_loss: 0.1414 - val_accuracy: 0.9417\n",
            "Epoch 140/200\n",
            "12/12 [==============================] - 0s 6ms/step - loss: 0.0993 - accuracy: 0.9689 - val_loss: 0.1413 - val_accuracy: 0.9433\n",
            "Epoch 141/200\n",
            "12/12 [==============================] - 0s 5ms/step - loss: 0.0892 - accuracy: 0.9728 - val_loss: 0.1416 - val_accuracy: 0.9433\n",
            "Epoch 142/200\n",
            "12/12 [==============================] - 0s 8ms/step - loss: 0.1013 - accuracy: 0.9700 - val_loss: 0.1412 - val_accuracy: 0.9433\n",
            "Epoch 143/200\n",
            "12/12 [==============================] - 0s 6ms/step - loss: 0.0912 - accuracy: 0.9730 - val_loss: 0.1414 - val_accuracy: 0.9417\n",
            "Epoch 144/200\n",
            "12/12 [==============================] - 0s 6ms/step - loss: 0.1022 - accuracy: 0.9664 - val_loss: 0.1414 - val_accuracy: 0.9433\n",
            "Epoch 145/200\n",
            "12/12 [==============================] - 0s 6ms/step - loss: 0.0886 - accuracy: 0.9757 - val_loss: 0.1416 - val_accuracy: 0.9433\n",
            "Epoch 146/200\n",
            "12/12 [==============================] - 0s 6ms/step - loss: 0.0946 - accuracy: 0.9738 - val_loss: 0.1419 - val_accuracy: 0.9417\n",
            "Epoch 147/200\n",
            "12/12 [==============================] - 0s 6ms/step - loss: 0.0914 - accuracy: 0.9691 - val_loss: 0.1416 - val_accuracy: 0.9433\n",
            "Epoch 148/200\n",
            "12/12 [==============================] - 0s 5ms/step - loss: 0.0949 - accuracy: 0.9718 - val_loss: 0.1416 - val_accuracy: 0.9417\n",
            "Epoch 149/200\n",
            "12/12 [==============================] - 0s 5ms/step - loss: 0.0933 - accuracy: 0.9714 - val_loss: 0.1417 - val_accuracy: 0.9417\n",
            "Epoch 150/200\n",
            "12/12 [==============================] - 0s 5ms/step - loss: 0.0958 - accuracy: 0.9736 - val_loss: 0.1413 - val_accuracy: 0.9433\n",
            "Epoch 151/200\n",
            "12/12 [==============================] - 0s 6ms/step - loss: 0.0848 - accuracy: 0.9753 - val_loss: 0.1419 - val_accuracy: 0.9417\n",
            "Epoch 152/200\n",
            "12/12 [==============================] - 0s 5ms/step - loss: 0.1000 - accuracy: 0.9712 - val_loss: 0.1416 - val_accuracy: 0.9433\n",
            "Epoch 153/200\n",
            "12/12 [==============================] - 0s 6ms/step - loss: 0.0845 - accuracy: 0.9746 - val_loss: 0.1416 - val_accuracy: 0.9417\n",
            "Epoch 154/200\n",
            "12/12 [==============================] - 0s 5ms/step - loss: 0.0906 - accuracy: 0.9689 - val_loss: 0.1416 - val_accuracy: 0.9417\n",
            "Epoch 155/200\n",
            "12/12 [==============================] - 0s 6ms/step - loss: 0.0896 - accuracy: 0.9714 - val_loss: 0.1417 - val_accuracy: 0.9417\n",
            "Epoch 156/200\n",
            "12/12 [==============================] - 0s 5ms/step - loss: 0.0858 - accuracy: 0.9760 - val_loss: 0.1416 - val_accuracy: 0.9417\n",
            "Epoch 157/200\n",
            "12/12 [==============================] - 0s 6ms/step - loss: 0.1005 - accuracy: 0.9701 - val_loss: 0.1416 - val_accuracy: 0.9433\n",
            "Epoch 158/200\n",
            "12/12 [==============================] - 0s 14ms/step - loss: 0.0858 - accuracy: 0.9748 - val_loss: 0.1416 - val_accuracy: 0.9417\n",
            "Epoch 159/200\n",
            "12/12 [==============================] - 0s 6ms/step - loss: 0.0983 - accuracy: 0.9702 - val_loss: 0.1420 - val_accuracy: 0.9450\n",
            "Epoch 160/200\n",
            "12/12 [==============================] - 0s 5ms/step - loss: 0.0880 - accuracy: 0.9728 - val_loss: 0.1419 - val_accuracy: 0.9433\n",
            "Epoch 161/200\n",
            "12/12 [==============================] - 0s 5ms/step - loss: 0.0968 - accuracy: 0.9656 - val_loss: 0.1417 - val_accuracy: 0.9433\n",
            "Epoch 162/200\n",
            "12/12 [==============================] - 0s 5ms/step - loss: 0.0841 - accuracy: 0.9726 - val_loss: 0.1420 - val_accuracy: 0.9417\n",
            "Epoch 163/200\n",
            "12/12 [==============================] - 0s 5ms/step - loss: 0.0842 - accuracy: 0.9753 - val_loss: 0.1420 - val_accuracy: 0.9417\n",
            "Epoch 164/200\n",
            "12/12 [==============================] - 0s 5ms/step - loss: 0.0772 - accuracy: 0.9781 - val_loss: 0.1419 - val_accuracy: 0.9433\n",
            "Epoch 165/200\n",
            "12/12 [==============================] - 0s 6ms/step - loss: 0.0974 - accuracy: 0.9708 - val_loss: 0.1421 - val_accuracy: 0.9433\n",
            "Epoch 166/200\n",
            "12/12 [==============================] - 0s 5ms/step - loss: 0.0881 - accuracy: 0.9736 - val_loss: 0.1423 - val_accuracy: 0.9417\n",
            "Epoch 167/200\n",
            "12/12 [==============================] - 0s 5ms/step - loss: 0.0959 - accuracy: 0.9694 - val_loss: 0.1419 - val_accuracy: 0.9417\n",
            "Epoch 168/200\n",
            "12/12 [==============================] - 0s 5ms/step - loss: 0.0989 - accuracy: 0.9684 - val_loss: 0.1423 - val_accuracy: 0.9417\n",
            "Epoch 169/200\n",
            "12/12 [==============================] - 0s 5ms/step - loss: 0.0844 - accuracy: 0.9761 - val_loss: 0.1426 - val_accuracy: 0.9433\n",
            "Epoch 170/200\n",
            "12/12 [==============================] - 0s 6ms/step - loss: 0.0954 - accuracy: 0.9693 - val_loss: 0.1422 - val_accuracy: 0.9400\n",
            "Epoch 171/200\n",
            "12/12 [==============================] - 0s 6ms/step - loss: 0.0817 - accuracy: 0.9751 - val_loss: 0.1422 - val_accuracy: 0.9433\n",
            "Epoch 172/200\n",
            "12/12 [==============================] - 0s 5ms/step - loss: 0.0821 - accuracy: 0.9768 - val_loss: 0.1421 - val_accuracy: 0.9450\n",
            "Epoch 173/200\n",
            "12/12 [==============================] - 0s 7ms/step - loss: 0.0950 - accuracy: 0.9722 - val_loss: 0.1425 - val_accuracy: 0.9417\n",
            "Epoch 174/200\n",
            "12/12 [==============================] - 0s 7ms/step - loss: 0.0778 - accuracy: 0.9770 - val_loss: 0.1422 - val_accuracy: 0.9417\n",
            "Epoch 175/200\n",
            "12/12 [==============================] - 0s 5ms/step - loss: 0.0790 - accuracy: 0.9766 - val_loss: 0.1422 - val_accuracy: 0.9400\n",
            "Epoch 176/200\n",
            "12/12 [==============================] - 0s 5ms/step - loss: 0.0804 - accuracy: 0.9731 - val_loss: 0.1426 - val_accuracy: 0.9400\n",
            "Epoch 177/200\n",
            "12/12 [==============================] - 0s 5ms/step - loss: 0.0811 - accuracy: 0.9771 - val_loss: 0.1428 - val_accuracy: 0.9417\n",
            "Epoch 178/200\n",
            "12/12 [==============================] - 0s 5ms/step - loss: 0.0813 - accuracy: 0.9745 - val_loss: 0.1429 - val_accuracy: 0.9433\n",
            "Epoch 179/200\n",
            "12/12 [==============================] - 0s 5ms/step - loss: 0.0880 - accuracy: 0.9756 - val_loss: 0.1432 - val_accuracy: 0.9400\n",
            "Epoch 180/200\n",
            "12/12 [==============================] - 0s 5ms/step - loss: 0.0912 - accuracy: 0.9696 - val_loss: 0.1430 - val_accuracy: 0.9400\n",
            "Epoch 181/200\n",
            "12/12 [==============================] - 0s 5ms/step - loss: 0.0872 - accuracy: 0.9744 - val_loss: 0.1430 - val_accuracy: 0.9417\n",
            "Epoch 182/200\n",
            "12/12 [==============================] - 0s 5ms/step - loss: 0.0780 - accuracy: 0.9770 - val_loss: 0.1432 - val_accuracy: 0.9417\n",
            "Epoch 183/200\n",
            "12/12 [==============================] - 0s 5ms/step - loss: 0.0872 - accuracy: 0.9746 - val_loss: 0.1430 - val_accuracy: 0.9417\n",
            "Epoch 184/200\n",
            "12/12 [==============================] - 0s 5ms/step - loss: 0.0780 - accuracy: 0.9768 - val_loss: 0.1432 - val_accuracy: 0.9417\n",
            "Epoch 185/200\n",
            "12/12 [==============================] - 0s 5ms/step - loss: 0.0867 - accuracy: 0.9721 - val_loss: 0.1431 - val_accuracy: 0.9417\n",
            "Epoch 186/200\n",
            "12/12 [==============================] - 0s 5ms/step - loss: 0.0750 - accuracy: 0.9783 - val_loss: 0.1432 - val_accuracy: 0.9417\n",
            "Epoch 187/200\n",
            "12/12 [==============================] - 0s 5ms/step - loss: 0.0747 - accuracy: 0.9786 - val_loss: 0.1435 - val_accuracy: 0.9417\n",
            "Epoch 188/200\n",
            "12/12 [==============================] - 0s 5ms/step - loss: 0.0791 - accuracy: 0.9733 - val_loss: 0.1442 - val_accuracy: 0.9400\n",
            "Epoch 189/200\n",
            "12/12 [==============================] - 0s 5ms/step - loss: 0.0785 - accuracy: 0.9767 - val_loss: 0.1435 - val_accuracy: 0.9417\n",
            "Epoch 190/200\n",
            "12/12 [==============================] - 0s 5ms/step - loss: 0.0880 - accuracy: 0.9725 - val_loss: 0.1436 - val_accuracy: 0.9417\n",
            "Epoch 191/200\n",
            "12/12 [==============================] - 0s 5ms/step - loss: 0.0830 - accuracy: 0.9734 - val_loss: 0.1436 - val_accuracy: 0.9417\n",
            "Epoch 192/200\n",
            "12/12 [==============================] - 0s 5ms/step - loss: 0.0744 - accuracy: 0.9788 - val_loss: 0.1434 - val_accuracy: 0.9417\n",
            "Epoch 193/200\n",
            "12/12 [==============================] - 0s 6ms/step - loss: 0.0725 - accuracy: 0.9791 - val_loss: 0.1432 - val_accuracy: 0.9383\n",
            "Epoch 194/200\n",
            "12/12 [==============================] - 0s 5ms/step - loss: 0.0784 - accuracy: 0.9775 - val_loss: 0.1438 - val_accuracy: 0.9383\n",
            "Epoch 195/200\n",
            "12/12 [==============================] - 0s 5ms/step - loss: 0.0738 - accuracy: 0.9791 - val_loss: 0.1437 - val_accuracy: 0.9383\n",
            "Epoch 196/200\n",
            "12/12 [==============================] - 0s 5ms/step - loss: 0.0759 - accuracy: 0.9769 - val_loss: 0.1442 - val_accuracy: 0.9383\n",
            "Epoch 197/200\n",
            "12/12 [==============================] - 0s 7ms/step - loss: 0.0732 - accuracy: 0.9787 - val_loss: 0.1440 - val_accuracy: 0.9400\n",
            "Epoch 198/200\n",
            "12/12 [==============================] - 0s 9ms/step - loss: 0.0835 - accuracy: 0.9763 - val_loss: 0.1445 - val_accuracy: 0.9383\n",
            "Epoch 199/200\n",
            "12/12 [==============================] - 0s 6ms/step - loss: 0.0790 - accuracy: 0.9770 - val_loss: 0.1442 - val_accuracy: 0.9383\n",
            "Epoch 200/200\n",
            "12/12 [==============================] - 0s 5ms/step - loss: 0.0739 - accuracy: 0.9768 - val_loss: 0.1437 - val_accuracy: 0.9383\n"
          ],
          "name": "stdout"
        }
      ]
    },
    {
      "cell_type": "code",
      "metadata": {
        "colab": {
          "base_uri": "https://localhost:8080/",
          "height": 295
        },
        "id": "azq63XEc6y0o",
        "outputId": "0217541b-20f8-4ded-9cd3-0cb954a7075f"
      },
      "source": [
        "loss = history.history['loss']\n",
        "val_loss = history.history['val_loss']\n",
        "epochs = range(1, len(loss) + 1)\n",
        "plt.plot(epochs,loss, 'bo', label='Training loss') #blue dots\n",
        "plt.plot(epochs,val_loss, 'b', label='Validation loss') #blue line\n",
        "plt.title('Training and validation loss')\n",
        "plt.xlabel('Epochs')\n",
        "plt.ylabel('Loss')\n",
        "plt.legend()\n",
        "plt.show()"
      ],
      "execution_count": 25,
      "outputs": [
        {
          "output_type": "display_data",
          "data": {
            "image/png": "[encoded data removed]",
            "text/plain": [
              "<Figure size 432x288 with 1 Axes>"
            ]
          },
          "metadata": {
            "tags": [],
            "needs_background": "light"
          }
        }
      ]
    },
    {
      "cell_type": "code",
      "metadata": {
        "colab": {
          "base_uri": "https://localhost:8080/",
          "height": 295
        },
        "id": "coBRrXsA64Jj",
        "outputId": "720f2233-98c4-46c4-f7bd-658db2f5ac57"
      },
      "source": [
        "acc = history.history['accuracy']\n",
        "val_acc = history.history['val_accuracy']\n",
        "epochs = range(1, len(acc) + 1)\n",
        "plt.plot(epochs,acc, 'bo', label='Training accuracy') #blue dots\n",
        "plt.plot(epochs,val_acc, 'b', label='Validation accuracy') #blue line\n",
        "plt.title('Training and validation accuracy')\n",
        "plt.xlabel('Epochs')\n",
        "plt.ylabel('Accuracy')\n",
        "plt.legend()\n",
        "plt.show()"
      ],
      "execution_count": 26,
      "outputs": [
        {
          "output_type": "display_data",
          "data": {
            "image/png": "[encoded data removed]",
            "text/plain": [
              "<Figure size 432x288 with 1 Axes>"
            ]
          },
          "metadata": {
            "tags": [],
            "needs_background": "light"
          }
        }
      ]
    },
    {
      "cell_type": "markdown",
      "metadata": {
        "id": "Bq8fTGMuZea1"
      },
      "source": [
        "This model looks good, however the validation accuracy stops improving after 100 epochs so it is better to stop there."
      ]
    },
    {
      "cell_type": "markdown",
      "metadata": {
        "id": "E_-0VUedZr-h"
      },
      "source": [
        "# Step 5 : Final model and evaluation"
      ]
    },
    {
      "cell_type": "code",
      "metadata": {
        "colab": {
          "base_uri": "https://localhost:8080/"
        },
        "id": "klI2k6zmZ9je",
        "outputId": "0cb5a61c-4f9b-4230-efbc-5c4a5a731c9f"
      },
      "source": [
        "train_data.shape, test_data.shape"
      ],
      "execution_count": 27,
      "outputs": [
        {
          "output_type": "execute_result",
          "data": {
            "text/plain": [
              "((3000, 57), (1601, 57))"
            ]
          },
          "metadata": {
            "tags": []
          },
          "execution_count": 27
        }
      ]
    },
    {
      "cell_type": "code",
      "metadata": {
        "id": "JlPmwMPUaKU-"
      },
      "source": [
        "# Save the very last one the prediction in the end\n",
        "inst_data = test_data[-1]\n",
        "inst_target = test_target[-1]"
      ],
      "execution_count": 28,
      "outputs": []
    },
    {
      "cell_type": "code",
      "metadata": {
        "colab": {
          "base_uri": "https://localhost:8080/"
        },
        "id": "3F-67_1ZbRCL",
        "outputId": "a12d79e6-0a89-42a7-b303-eb6a342076aa"
      },
      "source": [
        "model = models.Sequential()\n",
        "model.add(layers.Dense(26, activation='relu', input_shape=(57,)))\n",
        "model.add(layers.Dense(1, activation='sigmoid'))\n",
        "model.compile(optimizer='adam',loss='binary_crossentropy', metrics=['accuracy'])\n",
        "history = model.fit(train_data, train_target, epochs=100, batch_size=200)"
      ],
      "execution_count": 29,
      "outputs": [
        {
          "output_type": "stream",
          "text": [
            "Epoch 1/100\n",
            "15/15 [==============================] - 0s 3ms/step - loss: 0.8515 - accuracy: 0.4986\n",
            "Epoch 2/100\n",
            "15/15 [==============================] - 0s 2ms/step - loss: 0.6284 - accuracy: 0.6466\n",
            "Epoch 3/100\n",
            "15/15 [==============================] - 0s 2ms/step - loss: 0.4967 - accuracy: 0.7723\n",
            "Epoch 4/100\n",
            "15/15 [==============================] - 0s 2ms/step - loss: 0.4226 - accuracy: 0.8408\n",
            "Epoch 5/100\n",
            "15/15 [==============================] - 0s 2ms/step - loss: 0.3858 - accuracy: 0.8631\n",
            "Epoch 6/100\n",
            "15/15 [==============================] - 0s 2ms/step - loss: 0.3608 - accuracy: 0.8798\n",
            "Epoch 7/100\n",
            "15/15 [==============================] - 0s 2ms/step - loss: 0.3330 - accuracy: 0.8820\n",
            "Epoch 8/100\n",
            "15/15 [==============================] - 0s 2ms/step - loss: 0.2955 - accuracy: 0.8997\n",
            "Epoch 9/100\n",
            "15/15 [==============================] - 0s 2ms/step - loss: 0.3033 - accuracy: 0.8930\n",
            "Epoch 10/100\n",
            "15/15 [==============================] - 0s 2ms/step - loss: 0.2822 - accuracy: 0.9024\n",
            "Epoch 11/100\n",
            "15/15 [==============================] - 0s 2ms/step - loss: 0.2592 - accuracy: 0.9130\n",
            "Epoch 12/100\n",
            "15/15 [==============================] - 0s 2ms/step - loss: 0.2582 - accuracy: 0.9170\n",
            "Epoch 13/100\n",
            "15/15 [==============================] - 0s 2ms/step - loss: 0.2516 - accuracy: 0.9191\n",
            "Epoch 14/100\n",
            "15/15 [==============================] - 0s 2ms/step - loss: 0.2309 - accuracy: 0.9243\n",
            "Epoch 15/100\n",
            "15/15 [==============================] - 0s 2ms/step - loss: 0.2282 - accuracy: 0.9252\n",
            "Epoch 16/100\n",
            "15/15 [==============================] - 0s 2ms/step - loss: 0.2263 - accuracy: 0.9259\n",
            "Epoch 17/100\n",
            "15/15 [==============================] - 0s 2ms/step - loss: 0.2174 - accuracy: 0.9287\n",
            "Epoch 18/100\n",
            "15/15 [==============================] - 0s 2ms/step - loss: 0.2079 - accuracy: 0.9293\n",
            "Epoch 19/100\n",
            "15/15 [==============================] - 0s 2ms/step - loss: 0.1997 - accuracy: 0.9371\n",
            "Epoch 20/100\n",
            "15/15 [==============================] - 0s 2ms/step - loss: 0.2136 - accuracy: 0.9302\n",
            "Epoch 21/100\n",
            "15/15 [==============================] - 0s 2ms/step - loss: 0.1852 - accuracy: 0.9410\n",
            "Epoch 22/100\n",
            "15/15 [==============================] - 0s 2ms/step - loss: 0.1984 - accuracy: 0.9333\n",
            "Epoch 23/100\n",
            "15/15 [==============================] - 0s 2ms/step - loss: 0.1961 - accuracy: 0.9387\n",
            "Epoch 24/100\n",
            "15/15 [==============================] - 0s 2ms/step - loss: 0.1918 - accuracy: 0.9387\n",
            "Epoch 25/100\n",
            "15/15 [==============================] - 0s 2ms/step - loss: 0.1882 - accuracy: 0.9347\n",
            "Epoch 26/100\n",
            "15/15 [==============================] - 0s 2ms/step - loss: 0.1810 - accuracy: 0.9370\n",
            "Epoch 27/100\n",
            "15/15 [==============================] - 0s 2ms/step - loss: 0.1818 - accuracy: 0.9399\n",
            "Epoch 28/100\n",
            "15/15 [==============================] - 0s 2ms/step - loss: 0.1800 - accuracy: 0.9439\n",
            "Epoch 29/100\n",
            "15/15 [==============================] - 0s 2ms/step - loss: 0.1935 - accuracy: 0.9335\n",
            "Epoch 30/100\n",
            "15/15 [==============================] - 0s 2ms/step - loss: 0.1694 - accuracy: 0.9414\n",
            "Epoch 31/100\n",
            "15/15 [==============================] - 0s 2ms/step - loss: 0.1767 - accuracy: 0.9426\n",
            "Epoch 32/100\n",
            "15/15 [==============================] - 0s 2ms/step - loss: 0.1672 - accuracy: 0.9357\n",
            "Epoch 33/100\n",
            "15/15 [==============================] - 0s 2ms/step - loss: 0.1660 - accuracy: 0.9402\n",
            "Epoch 34/100\n",
            "15/15 [==============================] - 0s 2ms/step - loss: 0.1642 - accuracy: 0.9436\n",
            "Epoch 35/100\n",
            "15/15 [==============================] - 0s 2ms/step - loss: 0.1640 - accuracy: 0.9383\n",
            "Epoch 36/100\n",
            "15/15 [==============================] - 0s 2ms/step - loss: 0.1557 - accuracy: 0.9446\n",
            "Epoch 37/100\n",
            "15/15 [==============================] - 0s 2ms/step - loss: 0.1671 - accuracy: 0.9442\n",
            "Epoch 38/100\n",
            "15/15 [==============================] - 0s 2ms/step - loss: 0.1721 - accuracy: 0.9380\n",
            "Epoch 39/100\n",
            "15/15 [==============================] - 0s 2ms/step - loss: 0.1531 - accuracy: 0.9453\n",
            "Epoch 40/100\n",
            "15/15 [==============================] - 0s 2ms/step - loss: 0.1500 - accuracy: 0.9468\n",
            "Epoch 41/100\n",
            "15/15 [==============================] - 0s 2ms/step - loss: 0.1644 - accuracy: 0.9370\n",
            "Epoch 42/100\n",
            "15/15 [==============================] - 0s 2ms/step - loss: 0.1587 - accuracy: 0.9371\n",
            "Epoch 43/100\n",
            "15/15 [==============================] - 0s 2ms/step - loss: 0.1594 - accuracy: 0.9422\n",
            "Epoch 44/100\n",
            "15/15 [==============================] - 0s 2ms/step - loss: 0.1575 - accuracy: 0.9398\n",
            "Epoch 45/100\n",
            "15/15 [==============================] - 0s 2ms/step - loss: 0.1617 - accuracy: 0.9447\n",
            "Epoch 46/100\n",
            "15/15 [==============================] - 0s 2ms/step - loss: 0.1563 - accuracy: 0.9409\n",
            "Epoch 47/100\n",
            "15/15 [==============================] - 0s 2ms/step - loss: 0.1525 - accuracy: 0.9481\n",
            "Epoch 48/100\n",
            "15/15 [==============================] - 0s 2ms/step - loss: 0.1436 - accuracy: 0.9481\n",
            "Epoch 49/100\n",
            "15/15 [==============================] - 0s 2ms/step - loss: 0.1550 - accuracy: 0.9410\n",
            "Epoch 50/100\n",
            "15/15 [==============================] - 0s 2ms/step - loss: 0.1541 - accuracy: 0.9435\n",
            "Epoch 51/100\n",
            "15/15 [==============================] - 0s 2ms/step - loss: 0.1472 - accuracy: 0.9442\n",
            "Epoch 52/100\n",
            "15/15 [==============================] - 0s 2ms/step - loss: 0.1445 - accuracy: 0.9499\n",
            "Epoch 53/100\n",
            "15/15 [==============================] - 0s 2ms/step - loss: 0.1480 - accuracy: 0.9457\n",
            "Epoch 54/100\n",
            "15/15 [==============================] - 0s 2ms/step - loss: 0.1510 - accuracy: 0.9465\n",
            "Epoch 55/100\n",
            "15/15 [==============================] - 0s 2ms/step - loss: 0.1456 - accuracy: 0.9459\n",
            "Epoch 56/100\n",
            "15/15 [==============================] - 0s 2ms/step - loss: 0.1335 - accuracy: 0.9470\n",
            "Epoch 57/100\n",
            "15/15 [==============================] - 0s 2ms/step - loss: 0.1323 - accuracy: 0.9521\n",
            "Epoch 58/100\n",
            "15/15 [==============================] - 0s 2ms/step - loss: 0.1419 - accuracy: 0.9459\n",
            "Epoch 59/100\n",
            "15/15 [==============================] - 0s 2ms/step - loss: 0.1290 - accuracy: 0.9511\n",
            "Epoch 60/100\n",
            "15/15 [==============================] - 0s 2ms/step - loss: 0.1398 - accuracy: 0.9481\n",
            "Epoch 61/100\n",
            "15/15 [==============================] - 0s 2ms/step - loss: 0.1475 - accuracy: 0.9421\n",
            "Epoch 62/100\n",
            "15/15 [==============================] - 0s 2ms/step - loss: 0.1317 - accuracy: 0.9520\n",
            "Epoch 63/100\n",
            "15/15 [==============================] - 0s 2ms/step - loss: 0.1359 - accuracy: 0.9501\n",
            "Epoch 64/100\n",
            "15/15 [==============================] - 0s 2ms/step - loss: 0.1429 - accuracy: 0.9429\n",
            "Epoch 65/100\n",
            "15/15 [==============================] - 0s 2ms/step - loss: 0.1385 - accuracy: 0.9499\n",
            "Epoch 66/100\n",
            "15/15 [==============================] - 0s 2ms/step - loss: 0.1291 - accuracy: 0.9542\n",
            "Epoch 67/100\n",
            "15/15 [==============================] - 0s 2ms/step - loss: 0.1330 - accuracy: 0.9522\n",
            "Epoch 68/100\n",
            "15/15 [==============================] - 0s 2ms/step - loss: 0.1350 - accuracy: 0.9484\n",
            "Epoch 69/100\n",
            "15/15 [==============================] - 0s 2ms/step - loss: 0.1152 - accuracy: 0.9620\n",
            "Epoch 70/100\n",
            "15/15 [==============================] - 0s 2ms/step - loss: 0.1309 - accuracy: 0.9506\n",
            "Epoch 71/100\n",
            "15/15 [==============================] - 0s 2ms/step - loss: 0.1212 - accuracy: 0.9549\n",
            "Epoch 72/100\n",
            "15/15 [==============================] - 0s 2ms/step - loss: 0.1235 - accuracy: 0.9532\n",
            "Epoch 73/100\n",
            "15/15 [==============================] - 0s 2ms/step - loss: 0.1298 - accuracy: 0.9499\n",
            "Epoch 74/100\n",
            "15/15 [==============================] - 0s 2ms/step - loss: 0.1217 - accuracy: 0.9541\n",
            "Epoch 75/100\n",
            "15/15 [==============================] - 0s 2ms/step - loss: 0.1280 - accuracy: 0.9532\n",
            "Epoch 76/100\n",
            "15/15 [==============================] - 0s 2ms/step - loss: 0.1284 - accuracy: 0.9548\n",
            "Epoch 77/100\n",
            "15/15 [==============================] - 0s 2ms/step - loss: 0.1242 - accuracy: 0.9539\n",
            "Epoch 78/100\n",
            "15/15 [==============================] - 0s 3ms/step - loss: 0.1174 - accuracy: 0.9591\n",
            "Epoch 79/100\n",
            "15/15 [==============================] - 0s 2ms/step - loss: 0.1209 - accuracy: 0.9563\n",
            "Epoch 80/100\n",
            "15/15 [==============================] - 0s 2ms/step - loss: 0.1297 - accuracy: 0.9562\n",
            "Epoch 81/100\n",
            "15/15 [==============================] - 0s 2ms/step - loss: 0.1211 - accuracy: 0.9561\n",
            "Epoch 82/100\n",
            "15/15 [==============================] - 0s 2ms/step - loss: 0.1205 - accuracy: 0.9558\n",
            "Epoch 83/100\n",
            "15/15 [==============================] - 0s 2ms/step - loss: 0.1238 - accuracy: 0.9555\n",
            "Epoch 84/100\n",
            "15/15 [==============================] - 0s 2ms/step - loss: 0.1216 - accuracy: 0.9596\n",
            "Epoch 85/100\n",
            "15/15 [==============================] - 0s 2ms/step - loss: 0.1153 - accuracy: 0.9581\n",
            "Epoch 86/100\n",
            "15/15 [==============================] - 0s 2ms/step - loss: 0.1280 - accuracy: 0.9517\n",
            "Epoch 87/100\n",
            "15/15 [==============================] - 0s 2ms/step - loss: 0.1226 - accuracy: 0.9520\n",
            "Epoch 88/100\n",
            "15/15 [==============================] - 0s 2ms/step - loss: 0.1130 - accuracy: 0.9598\n",
            "Epoch 89/100\n",
            "15/15 [==============================] - 0s 2ms/step - loss: 0.1098 - accuracy: 0.9636\n",
            "Epoch 90/100\n",
            "15/15 [==============================] - 0s 2ms/step - loss: 0.1181 - accuracy: 0.9584\n",
            "Epoch 91/100\n",
            "15/15 [==============================] - 0s 3ms/step - loss: 0.1244 - accuracy: 0.9571\n",
            "Epoch 92/100\n",
            "15/15 [==============================] - 0s 2ms/step - loss: 0.1240 - accuracy: 0.9556\n",
            "Epoch 93/100\n",
            "15/15 [==============================] - 0s 2ms/step - loss: 0.1264 - accuracy: 0.9528\n",
            "Epoch 94/100\n",
            "15/15 [==============================] - 0s 2ms/step - loss: 0.1132 - accuracy: 0.9604\n",
            "Epoch 95/100\n",
            "15/15 [==============================] - 0s 2ms/step - loss: 0.1228 - accuracy: 0.9582\n",
            "Epoch 96/100\n",
            "15/15 [==============================] - 0s 2ms/step - loss: 0.1078 - accuracy: 0.9626\n",
            "Epoch 97/100\n",
            "15/15 [==============================] - 0s 2ms/step - loss: 0.1178 - accuracy: 0.9597\n",
            "Epoch 98/100\n",
            "15/15 [==============================] - 0s 2ms/step - loss: 0.1095 - accuracy: 0.9602\n",
            "Epoch 99/100\n",
            "15/15 [==============================] - 0s 2ms/step - loss: 0.1194 - accuracy: 0.9588\n",
            "Epoch 100/100\n",
            "15/15 [==============================] - 0s 2ms/step - loss: 0.1094 - accuracy: 0.9625\n"
          ],
          "name": "stdout"
        }
      ]
    },
    {
      "cell_type": "code",
      "metadata": {
        "colab": {
          "base_uri": "https://localhost:8080/"
        },
        "id": "wIgKAMSkbSZw",
        "outputId": "b8d04d82-2cb7-48cb-cbbd-eb6ed005a511"
      },
      "source": [
        "score = model.evaluate(test_data[:-1], test_target[:-1])\n",
        "score"
      ],
      "execution_count": 30,
      "outputs": [
        {
          "output_type": "stream",
          "text": [
            "50/50 [==============================] - 0s 1ms/step - loss: 0.1893 - accuracy: 0.9244\n"
          ],
          "name": "stdout"
        },
        {
          "output_type": "execute_result",
          "data": {
            "text/plain": [
              "[0.18926388025283813, 0.9243749976158142]"
            ]
          },
          "metadata": {
            "tags": []
          },
          "execution_count": 30
        }
      ]
    },
    {
      "cell_type": "code",
      "metadata": {
        "id": "ERwDUQrfbf_y"
      },
      "source": [
        "model.save(\"/content/drive/My Drive/Colab Notebooks/CS577_colab/SpamBase.h5\")"
      ],
      "execution_count": 31,
      "outputs": []
    },
    {
      "cell_type": "code",
      "metadata": {
        "id": "D2ovrGePcrqG"
      },
      "source": [
        "model_loaded = models.load_model(\"/content/drive/My Drive/Colab Notebooks/CS577_colab/SpamBase.h5\")"
      ],
      "execution_count": 32,
      "outputs": []
    },
    {
      "cell_type": "code",
      "metadata": {
        "id": "nRF9PEytc5Kf"
      },
      "source": [
        "result = model_loaded.predict(inst_data.reshape(1,-1))"
      ],
      "execution_count": 33,
      "outputs": []
    },
    {
      "cell_type": "code",
      "metadata": {
        "colab": {
          "base_uri": "https://localhost:8080/"
        },
        "id": "-FdRfS3xc92H",
        "outputId": "896b7adb-71ca-4c6c-dcd7-5c0644d9ed2c"
      },
      "source": [
        "result"
      ],
      "execution_count": 34,
      "outputs": [
        {
          "output_type": "execute_result",
          "data": {
            "text/plain": [
              "array([[6.7150995e-06]], dtype=float32)"
            ]
          },
          "metadata": {
            "tags": []
          },
          "execution_count": 34
        }
      ]
    },
    {
      "cell_type": "code",
      "metadata": {
        "colab": {
          "base_uri": "https://localhost:8080/"
        },
        "id": "BlFZcdGrdFdZ",
        "outputId": "78f0958b-338c-4e03-9ac5-c6b9d1d76172"
      },
      "source": [
        "inst_target"
      ],
      "execution_count": 35,
      "outputs": [
        {
          "output_type": "execute_result",
          "data": {
            "text/plain": [
              "0"
            ]
          },
          "metadata": {
            "tags": []
          },
          "execution_count": 35
        }
      ]
    },
    {
      "cell_type": "markdown",
      "metadata": {
        "id": "ty8yDIFAdWnf"
      },
      "source": [
        "The model works !"
      ]
    },
    {
      "cell_type": "code",
      "metadata": {
        "id": "VAZPkPOadUH3"
      },
      "source": [
        ""
      ],
      "execution_count": 35,
      "outputs": []
    }
  ]
}